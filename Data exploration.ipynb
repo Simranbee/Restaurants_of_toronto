{
 "cells": [
  {
   "cell_type": "code",
   "execution_count": 6,
   "metadata": {},
   "outputs": [],
   "source": [
    "import re\n",
    "import pandas as pd \n",
    "import numpy as np \n",
    "import matplotlib.pyplot as plt \n",
    "import seaborn as sns\n",
    "import string\n",
    "import nltk\n",
    "import warnings \n",
    "from wordcloud import WordCloud\n",
    "from textblob import TextBlob"
   ]
  },
  {
   "cell_type": "code",
   "execution_count": 7,
   "metadata": {},
   "outputs": [],
   "source": [
    "df = pd.read_csv('all_reviews.csv')"
   ]
  },
  {
   "cell_type": "code",
   "execution_count": 8,
   "metadata": {},
   "outputs": [
    {
     "data": {
      "text/html": [
       "<div>\n",
       "<style scoped>\n",
       "    .dataframe tbody tr th:only-of-type {\n",
       "        vertical-align: middle;\n",
       "    }\n",
       "\n",
       "    .dataframe tbody tr th {\n",
       "        vertical-align: top;\n",
       "    }\n",
       "\n",
       "    .dataframe thead th {\n",
       "        text-align: right;\n",
       "    }\n",
       "</style>\n",
       "<table border=\"1\" class=\"dataframe\">\n",
       "  <thead>\n",
       "    <tr style=\"text-align: right;\">\n",
       "      <th></th>\n",
       "      <th>Unnamed: 0</th>\n",
       "      <th>id_review</th>\n",
       "      <th>user</th>\n",
       "      <th>review</th>\n",
       "      <th>ratings</th>\n",
       "      <th>pub_date</th>\n",
       "      <th>Restaurant_id</th>\n",
       "    </tr>\n",
       "  </thead>\n",
       "  <tbody>\n",
       "    <tr>\n",
       "      <th>0</th>\n",
       "      <td>0</td>\n",
       "      <td>ChdDSUhNMG9nS0VJQ0FnSUR5cEt5bGlnRRAB</td>\n",
       "      <td>christiana kamara</td>\n",
       "      <td>What a fantastic experience. We recently did t...</td>\n",
       "      <td>5 stars</td>\n",
       "      <td>3 weeks ago</td>\n",
       "      <td>1</td>\n",
       "    </tr>\n",
       "    <tr>\n",
       "      <th>1</th>\n",
       "      <td>1</td>\n",
       "      <td>ChdDSUhNMG9nS0VJQ0FnSURDNlphUzN3RRAB</td>\n",
       "      <td>Nicholas</td>\n",
       "      <td>Total experience was fantastic! From the front...</td>\n",
       "      <td>5 stars</td>\n",
       "      <td>5 months ago</td>\n",
       "      <td>1</td>\n",
       "    </tr>\n",
       "    <tr>\n",
       "      <th>2</th>\n",
       "      <td>2</td>\n",
       "      <td>ChZDSUhNMG9nS0VJQ0FnSUNpenJPLUt3EAE</td>\n",
       "      <td>Marina Vimar</td>\n",
       "      <td>I honestly love this place!\\n\\nThe staff is so...</td>\n",
       "      <td>5 stars</td>\n",
       "      <td>4 months ago</td>\n",
       "      <td>1</td>\n",
       "    </tr>\n",
       "    <tr>\n",
       "      <th>3</th>\n",
       "      <td>3</td>\n",
       "      <td>ChdDSUhNMG9nS0VJQ0FnSUR5d29hejlRRRAB</td>\n",
       "      <td>Mel S</td>\n",
       "      <td>Definitely the best restaurant in the area in ...</td>\n",
       "      <td>4 stars</td>\n",
       "      <td>2 weeks ago</td>\n",
       "      <td>1</td>\n",
       "    </tr>\n",
       "    <tr>\n",
       "      <th>4</th>\n",
       "      <td>4</td>\n",
       "      <td>ChZDSUhNMG9nS0VJQ0FnSURDeU9leVJ3EAE</td>\n",
       "      <td>Olha Matviichuk</td>\n",
       "      <td>Today, me and my sister visited this place and...</td>\n",
       "      <td>3 stars</td>\n",
       "      <td>6 months ago</td>\n",
       "      <td>1</td>\n",
       "    </tr>\n",
       "  </tbody>\n",
       "</table>\n",
       "</div>"
      ],
      "text/plain": [
       "   Unnamed: 0                             id_review               user  \\\n",
       "0           0  ChdDSUhNMG9nS0VJQ0FnSUR5cEt5bGlnRRAB  christiana kamara   \n",
       "1           1  ChdDSUhNMG9nS0VJQ0FnSURDNlphUzN3RRAB           Nicholas   \n",
       "2           2   ChZDSUhNMG9nS0VJQ0FnSUNpenJPLUt3EAE       Marina Vimar   \n",
       "3           3  ChdDSUhNMG9nS0VJQ0FnSUR5d29hejlRRRAB              Mel S   \n",
       "4           4   ChZDSUhNMG9nS0VJQ0FnSURDeU9leVJ3EAE    Olha Matviichuk   \n",
       "\n",
       "                                              review    ratings      pub_date  \\\n",
       "0  What a fantastic experience. We recently did t...   5 stars    3 weeks ago   \n",
       "1  Total experience was fantastic! From the front...   5 stars   5 months ago   \n",
       "2  I honestly love this place!\\n\\nThe staff is so...   5 stars   4 months ago   \n",
       "3  Definitely the best restaurant in the area in ...   4 stars    2 weeks ago   \n",
       "4  Today, me and my sister visited this place and...   3 stars   6 months ago   \n",
       "\n",
       "   Restaurant_id  \n",
       "0              1  \n",
       "1              1  \n",
       "2              1  \n",
       "3              1  \n",
       "4              1  "
      ]
     },
     "execution_count": 8,
     "metadata": {},
     "output_type": "execute_result"
    }
   ],
   "source": [
    "df.head()"
   ]
  },
  {
   "cell_type": "code",
   "execution_count": 9,
   "metadata": {},
   "outputs": [],
   "source": [
    "import numpy as np\n",
    "import matplotlib as plt\n",
    "%matplotlib inline"
   ]
  },
  {
   "cell_type": "code",
   "execution_count": 10,
   "metadata": {},
   "outputs": [
    {
     "data": {
      "text/plain": [
       "array(['3 weeks ago', '5 months ago', '4 months ago', '2 weeks ago',\n",
       "       '6 months ago', '8 months ago', 'a year ago', 'a month ago',\n",
       "       '2 months ago', '7 months ago', 'a week ago', '9 months ago',\n",
       "       '11 months ago', '22 hours ago', '10 months ago', '3 months ago',\n",
       "       '2 years ago', '4 years ago', '3 years ago', '6 years ago',\n",
       "       '5 years ago', '5 days ago', '4 days ago', '2 days ago',\n",
       "       '6 days ago', 'a day ago', '20 hours ago', '7 years ago',\n",
       "       '8 years ago', '10 years ago', '9 years ago', '3 days ago',\n",
       "       '5 hours ago', '4 hours ago', '3 minutes ago', '15 years ago',\n",
       "       '19 hours ago', '16 hours ago', '15 hours ago'], dtype=object)"
      ]
     },
     "execution_count": 10,
     "metadata": {},
     "output_type": "execute_result"
    }
   ],
   "source": [
    "df['pub_date'].unique()"
   ]
  },
  {
   "cell_type": "code",
   "execution_count": 11,
   "metadata": {},
   "outputs": [],
   "source": [
    "import seaborn as sns"
   ]
  },
  {
   "cell_type": "code",
   "execution_count": 12,
   "metadata": {},
   "outputs": [
    {
     "data": {
      "text/plain": [
       "<matplotlib.axes._subplots.AxesSubplot at 0x7fe94273c430>"
      ]
     },
     "execution_count": 12,
     "metadata": {},
     "output_type": "execute_result"
    },
    {
     "data": {
      "image/png": "[encoded data removed]",
      "text/plain": [
       "<Figure size 1440x720 with 1 Axes>"
      ]
     },
     "metadata": {
      "needs_background": "light"
     },
     "output_type": "display_data"
    }
   ],
   "source": [
    "\n",
    "df.pub_date.value_counts().plot(kind='barh', figsize=(20,10))"
   ]
  },
  {
   "cell_type": "code",
   "execution_count": 13,
   "metadata": {},
   "outputs": [
    {
     "data": {
      "text/html": [
       "<div>\n",
       "<style scoped>\n",
       "    .dataframe tbody tr th:only-of-type {\n",
       "        vertical-align: middle;\n",
       "    }\n",
       "\n",
       "    .dataframe tbody tr th {\n",
       "        vertical-align: top;\n",
       "    }\n",
       "\n",
       "    .dataframe thead th {\n",
       "        text-align: right;\n",
       "    }\n",
       "</style>\n",
       "<table border=\"1\" class=\"dataframe\">\n",
       "  <thead>\n",
       "    <tr style=\"text-align: right;\">\n",
       "      <th></th>\n",
       "      <th>Unnamed: 0</th>\n",
       "      <th>id_review</th>\n",
       "      <th>user</th>\n",
       "      <th>review</th>\n",
       "      <th>ratings</th>\n",
       "      <th>pub_date</th>\n",
       "      <th>Restaurant_id</th>\n",
       "    </tr>\n",
       "  </thead>\n",
       "  <tbody>\n",
       "    <tr>\n",
       "      <th>0</th>\n",
       "      <td>0</td>\n",
       "      <td>ChdDSUhNMG9nS0VJQ0FnSUR5cEt5bGlnRRAB</td>\n",
       "      <td>christiana kamara</td>\n",
       "      <td>What a fantastic experience. We recently did t...</td>\n",
       "      <td>5 stars</td>\n",
       "      <td>3 weeks ago</td>\n",
       "      <td>1</td>\n",
       "    </tr>\n",
       "    <tr>\n",
       "      <th>1</th>\n",
       "      <td>1</td>\n",
       "      <td>ChdDSUhNMG9nS0VJQ0FnSURDNlphUzN3RRAB</td>\n",
       "      <td>Nicholas</td>\n",
       "      <td>Total experience was fantastic! From the front...</td>\n",
       "      <td>5 stars</td>\n",
       "      <td>5 months ago</td>\n",
       "      <td>1</td>\n",
       "    </tr>\n",
       "    <tr>\n",
       "      <th>2</th>\n",
       "      <td>2</td>\n",
       "      <td>ChZDSUhNMG9nS0VJQ0FnSUNpenJPLUt3EAE</td>\n",
       "      <td>Marina Vimar</td>\n",
       "      <td>I honestly love this place!\\n\\nThe staff is so...</td>\n",
       "      <td>5 stars</td>\n",
       "      <td>4 months ago</td>\n",
       "      <td>1</td>\n",
       "    </tr>\n",
       "    <tr>\n",
       "      <th>3</th>\n",
       "      <td>3</td>\n",
       "      <td>ChdDSUhNMG9nS0VJQ0FnSUR5d29hejlRRRAB</td>\n",
       "      <td>Mel S</td>\n",
       "      <td>Definitely the best restaurant in the area in ...</td>\n",
       "      <td>4 stars</td>\n",
       "      <td>2 weeks ago</td>\n",
       "      <td>1</td>\n",
       "    </tr>\n",
       "    <tr>\n",
       "      <th>4</th>\n",
       "      <td>4</td>\n",
       "      <td>ChZDSUhNMG9nS0VJQ0FnSURDeU9leVJ3EAE</td>\n",
       "      <td>Olha Matviichuk</td>\n",
       "      <td>Today, me and my sister visited this place and...</td>\n",
       "      <td>3 stars</td>\n",
       "      <td>6 months ago</td>\n",
       "      <td>1</td>\n",
       "    </tr>\n",
       "  </tbody>\n",
       "</table>\n",
       "</div>"
      ],
      "text/plain": [
       "   Unnamed: 0                             id_review               user  \\\n",
       "0           0  ChdDSUhNMG9nS0VJQ0FnSUR5cEt5bGlnRRAB  christiana kamara   \n",
       "1           1  ChdDSUhNMG9nS0VJQ0FnSURDNlphUzN3RRAB           Nicholas   \n",
       "2           2   ChZDSUhNMG9nS0VJQ0FnSUNpenJPLUt3EAE       Marina Vimar   \n",
       "3           3  ChdDSUhNMG9nS0VJQ0FnSUR5d29hejlRRRAB              Mel S   \n",
       "4           4   ChZDSUhNMG9nS0VJQ0FnSURDeU9leVJ3EAE    Olha Matviichuk   \n",
       "\n",
       "                                              review    ratings      pub_date  \\\n",
       "0  What a fantastic experience. We recently did t...   5 stars    3 weeks ago   \n",
       "1  Total experience was fantastic! From the front...   5 stars   5 months ago   \n",
       "2  I honestly love this place!\\n\\nThe staff is so...   5 stars   4 months ago   \n",
       "3  Definitely the best restaurant in the area in ...   4 stars    2 weeks ago   \n",
       "4  Today, me and my sister visited this place and...   3 stars   6 months ago   \n",
       "\n",
       "   Restaurant_id  \n",
       "0              1  \n",
       "1              1  \n",
       "2              1  \n",
       "3              1  \n",
       "4              1  "
      ]
     },
     "execution_count": 13,
     "metadata": {},
     "output_type": "execute_result"
    }
   ],
   "source": [
    "df.head()"
   ]
  },
  {
   "cell_type": "code",
   "execution_count": 14,
   "metadata": {},
   "outputs": [],
   "source": [
    "time = ['3 weeks ago', '5 months ago', '4 months ago', '2 weeks ago',\n",
    "       '6 months ago', '8 months ago', 'a year ago', 'a month ago',\n",
    "       '2 months ago', '7 months ago', 'a week ago', '9 months ago',\n",
    "       '11 months ago', '22 hours ago', '10 months ago', '3 months ago','5 days ago', '4 days ago', '2 days ago',\n",
    "       '6 days ago', 'a day ago', '20 hours ago', '3 days ago',\n",
    "       '5 hours ago', '4 hours ago', '3 minutes ago', \n",
    "       '19 hours ago', '16 hours ago', '15 hours ago']\n",
    "df1 = df[df.pub_date.isin(time)]\n"
   ]
  },
  {
   "cell_type": "code",
   "execution_count": 15,
   "metadata": {},
   "outputs": [
    {
     "data": {
      "text/plain": [
       "<matplotlib.axes._subplots.AxesSubplot at 0x7fe93f6ffe20>"
      ]
     },
     "execution_count": 15,
     "metadata": {},
     "output_type": "execute_result"
    },
    {
     "data": {
      "image/png": "[encoded data removed]",
      "text/plain": [
       "<Figure size 1440x720 with 1 Axes>"
      ]
     },
     "metadata": {
      "needs_background": "light"
     },
     "output_type": "display_data"
    }
   ],
   "source": [
    "df1.pub_date.value_counts().plot(kind='barh', figsize=(20,10))"
   ]
  },
  {
   "cell_type": "code",
   "execution_count": 33,
   "metadata": {},
   "outputs": [
    {
     "name": "stderr",
     "output_type": "stream",
     "text": [
      "<ipython-input-33-ae9710f7d03a>:1: SettingWithCopyWarning: \n",
      "A value is trying to be set on a copy of a slice from a DataFrame.\n",
      "Try using .loc[row_indexer,col_indexer] = value instead\n",
      "\n",
      "See the caveats in the documentation: https://pandas.pydata.org/pandas-docs/stable/user_guide/indexing.html#returning-a-view-versus-a-copy\n",
      "  df1['pub_date'] = df['pub_date'].replace(['3 weeks ago', '5 months ago', '4 months ago', '2 weeks ago',\n"
     ]
    }
   ],
   "source": [
    "df1['pub_date'] = df['pub_date'].replace(['3 weeks ago', '5 months ago', '4 months ago', '2 weeks ago',\n",
    "       '6 months ago', '8 months ago', 'a month ago',\n",
    "       '2 months ago', '7 months ago', 'a week ago', '9 months ago',\n",
    "       '11 months ago', '22 hours ago', '10 months ago', '3 months ago',\n",
    "       '5 days ago', '4 days ago', '2 days ago',\n",
    "       '6 days ago', 'a day ago', '20 hours ago', '3 days ago',\n",
    "       '5 hours ago', '4 hours ago', '3 minutes ago', \n",
    "       '19 hours ago', '16 hours ago', '15 hours ago'], 'pandemic')"
   ]
  },
  {
   "cell_type": "code",
   "execution_count": 34,
   "metadata": {},
   "outputs": [
    {
     "data": {
      "text/plain": [
       "<matplotlib.axes._subplots.AxesSubplot at 0x7fe90b38e160>"
      ]
     },
     "execution_count": 34,
     "metadata": {},
     "output_type": "execute_result"
    },
    {
     "data": {
      "image/png": "[encoded data removed]",
      "text/plain": [
       "<Figure size 1440x720 with 1 Axes>"
      ]
     },
     "metadata": {
      "needs_background": "light"
     },
     "output_type": "display_data"
    }
   ],
   "source": [
    "df1.pub_date.value_counts().plot(kind='barh', figsize=(20,10))"
   ]
  },
  {
   "cell_type": "code",
   "execution_count": null,
   "metadata": {},
   "outputs": [],
   "source": [
    "sample1= df1.sample(frac=0.3, replace=True, random_state=1)\n",
    "\n",
    "sample2=df1.sample(frac=0.3, replace=True, random_state=5)\n",
    "sample3=df1.sample(frac=0.3, replace=True, random_state=101)"
   ]
  },
  {
   "cell_type": "code",
   "execution_count": null,
   "metadata": {},
   "outputs": [],
   "source": [
    "s1 = sample1.pub_date.value_counts()"
   ]
  },
  {
   "cell_type": "code",
   "execution_count": null,
   "metadata": {},
   "outputs": [],
   "source": [
    "s2 = sample2.pub_date.value_counts()"
   ]
  },
  {
   "cell_type": "code",
   "execution_count": null,
   "metadata": {},
   "outputs": [],
   "source": [
    "s3 = sample3.pub_date.value_counts()"
   ]
  },
  {
   "cell_type": "code",
   "execution_count": null,
   "metadata": {},
   "outputs": [],
   "source": [
    "s1['A'] = 1\n",
    "\n",
    "s2['B'] = 2\n",
    "s2\n",
    "s3['C'] = 3\n",
    "s3"
   ]
  },
  {
   "cell_type": "code",
   "execution_count": null,
   "metadata": {},
   "outputs": [],
   "source": [
    "vals = pd.concat([s1, s2, s3], axis = 0)"
   ]
  },
  {
   "cell_type": "code",
   "execution_count": null,
   "metadata": {},
   "outputs": [],
   "source": [
    "vals"
   ]
  },
  {
   "cell_type": "code",
   "execution_count": null,
   "metadata": {},
   "outputs": [],
   "source": [
    "vals = pd.DataFrame(vals)"
   ]
  },
  {
   "cell_type": "code",
   "execution_count": null,
   "metadata": {},
   "outputs": [],
   "source": [
    "val1 = vals.reset_index()\n",
    "val1.head()"
   ]
  },
  {
   "cell_type": "code",
   "execution_count": 35,
   "metadata": {},
   "outputs": [
    {
     "ename": "NameError",
     "evalue": "name 'val1' is not defined",
     "output_type": "error",
     "traceback": [
      "\u001b[0;31m---------------------------------------------------------------------------\u001b[0m",
      "\u001b[0;31mNameError\u001b[0m                                 Traceback (most recent call last)",
      "\u001b[0;32m<ipython-input-35-beb388874998>\u001b[0m in \u001b[0;36m<module>\u001b[0;34m\u001b[0m\n\u001b[1;32m      1\u001b[0m \u001b[0;32mfrom\u001b[0m \u001b[0mscipy\u001b[0m\u001b[0;34m.\u001b[0m\u001b[0mstats\u001b[0m \u001b[0;32mimport\u001b[0m \u001b[0mttest_ind\u001b[0m\u001b[0;34m\u001b[0m\u001b[0;34m\u001b[0m\u001b[0m\n\u001b[1;32m      2\u001b[0m \u001b[0;34m\u001b[0m\u001b[0m\n\u001b[0;32m----> 3\u001b[0;31m \u001b[0mcat1\u001b[0m \u001b[0;34m=\u001b[0m \u001b[0mval1\u001b[0m\u001b[0;34m[\u001b[0m\u001b[0mval1\u001b[0m\u001b[0;34m[\u001b[0m\u001b[0;34m'index'\u001b[0m\u001b[0;34m]\u001b[0m\u001b[0;34m==\u001b[0m\u001b[0;34m'a year ago'\u001b[0m\u001b[0;34m]\u001b[0m\u001b[0;34m\u001b[0m\u001b[0;34m\u001b[0m\u001b[0m\n\u001b[0m\u001b[1;32m      4\u001b[0m \u001b[0mcat2\u001b[0m \u001b[0;34m=\u001b[0m \u001b[0mval1\u001b[0m\u001b[0;34m[\u001b[0m\u001b[0mval1\u001b[0m\u001b[0;34m[\u001b[0m\u001b[0;34m'index'\u001b[0m\u001b[0;34m]\u001b[0m\u001b[0;34m==\u001b[0m\u001b[0;34m'pandemic'\u001b[0m\u001b[0;34m]\u001b[0m\u001b[0;34m\u001b[0m\u001b[0;34m\u001b[0m\u001b[0m\n\u001b[1;32m      5\u001b[0m \u001b[0;34m\u001b[0m\u001b[0m\n",
      "\u001b[0;31mNameError\u001b[0m: name 'val1' is not defined"
     ]
    }
   ],
   "source": [
    "from scipy.stats import ttest_ind\n",
    "\n",
    "cat1 = val1[val1['index']=='a year ago']\n",
    "cat2 = val1[val1['index']=='pandemic']\n",
    "\n",
    "ttest_ind(cat1['pub_date'], cat2['pub_date'])\n",
    "#large tscore means groups are very different"
   ]
  },
  {
   "cell_type": "code",
   "execution_count": null,
   "metadata": {},
   "outputs": [],
   "source": [
    "cat1 = val1[val1['index']=='a year ago']\n",
    "cat2 = val1[val1['index']=='postcovid']\n",
    "\n",
    "ttest_ind(cat1['pub_date'], cat2['pub_date'])"
   ]
  },
  {
   "cell_type": "code",
   "execution_count": null,
   "metadata": {},
   "outputs": [],
   "source": []
  },
  {
   "cell_type": "code",
   "execution_count": null,
   "metadata": {},
   "outputs": [],
   "source": [
    "import scipy.stats\n",
    "\n",
    "scipy.stats.ttest_ind"
   ]
  },
  {
   "cell_type": "code",
   "execution_count": 36,
   "metadata": {},
   "outputs": [
    {
     "name": "stderr",
     "output_type": "stream",
     "text": [
      "<ipython-input-36-db085f5152be>:1: SettingWithCopyWarning: \n",
      "A value is trying to be set on a copy of a slice from a DataFrame.\n",
      "Try using .loc[row_indexer,col_indexer] = value instead\n",
      "\n",
      "See the caveats in the documentation: https://pandas.pydata.org/pandas-docs/stable/user_guide/indexing.html#returning-a-view-versus-a-copy\n",
      "  df1['ratings'] = df['ratings'].replace([' 5 stars ', ' 4 stars ', ' 3 stars ', ' 1 star ', ' 2 stars '],[5 ,4 , 3, 1, 2])\n"
     ]
    }
   ],
   "source": [
    "df1['ratings'] = df['ratings'].replace([' 5 stars ', ' 4 stars ', ' 3 stars ', ' 1 star ', ' 2 stars '],[5 ,4 , 3, 1, 2])"
   ]
  },
  {
   "cell_type": "code",
   "execution_count": 38,
   "metadata": {},
   "outputs": [],
   "source": [
    "df5 = df1.groupby('pub_date')"
   ]
  },
  {
   "cell_type": "code",
   "execution_count": 41,
   "metadata": {},
   "outputs": [
    {
     "ename": "AttributeError",
     "evalue": "module 'matplotlib' has no attribute 'setp'",
     "output_type": "error",
     "traceback": [
      "\u001b[0;31m---------------------------------------------------------------------------\u001b[0m",
      "\u001b[0;31mAttributeError\u001b[0m                            Traceback (most recent call last)",
      "\u001b[0;32m<ipython-input-41-d3174def4a51>\u001b[0m in \u001b[0;36m<module>\u001b[0;34m\u001b[0m\n\u001b[1;32m      6\u001b[0m                      )\n\u001b[1;32m      7\u001b[0m \u001b[0mp\u001b[0m \u001b[0;34m=\u001b[0m \u001b[0msns\u001b[0m\u001b[0;34m.\u001b[0m\u001b[0mbarplot\u001b[0m\u001b[0;34m(\u001b[0m\u001b[0mx\u001b[0m\u001b[0;34m=\u001b[0m\u001b[0;34m\"pub_date\"\u001b[0m\u001b[0;34m,\u001b[0m \u001b[0my\u001b[0m\u001b[0;34m=\u001b[0m\u001b[0;34m\"percentage\"\u001b[0m\u001b[0;34m,\u001b[0m \u001b[0mhue\u001b[0m\u001b[0;34m=\u001b[0m\u001b[0;34m\"ratings\"\u001b[0m\u001b[0;34m,\u001b[0m \u001b[0mdata\u001b[0m\u001b[0;34m=\u001b[0m\u001b[0moccupation_counts\u001b[0m\u001b[0;34m)\u001b[0m\u001b[0;34m\u001b[0m\u001b[0;34m\u001b[0m\u001b[0m\n\u001b[0;32m----> 8\u001b[0;31m \u001b[0m_\u001b[0m \u001b[0;34m=\u001b[0m \u001b[0mplt\u001b[0m\u001b[0;34m.\u001b[0m\u001b[0msetp\u001b[0m\u001b[0;34m(\u001b[0m\u001b[0mp\u001b[0m\u001b[0;34m.\u001b[0m\u001b[0mget_xticklabels\u001b[0m\u001b[0;34m(\u001b[0m\u001b[0;34m)\u001b[0m\u001b[0;34m,\u001b[0m \u001b[0mrotation\u001b[0m\u001b[0;34m=\u001b[0m\u001b[0;36m90\u001b[0m\u001b[0;34m)\u001b[0m\u001b[0;34m\u001b[0m\u001b[0;34m\u001b[0m\u001b[0m\n\u001b[0m",
      "\u001b[0;31mAttributeError\u001b[0m: module 'matplotlib' has no attribute 'setp'"
     ]
    },
    {
     "data": {
      "image/png": "[encoded data removed]",
      "text/plain": [
       "<Figure size 432x288 with 1 Axes>"
      ]
     },
     "metadata": {
      "needs_background": "light"
     },
     "output_type": "display_data"
    }
   ],
   "source": [
    "occupation_counts = (df1.groupby(['pub_date'])['ratings']\n",
    "                     .value_counts(normalize=True)\n",
    "                     .rename('percentage')\n",
    "                     .mul(100)\n",
    "                     .reset_index()\n",
    "                     )\n",
    "p = sns.barplot(x=\"pub_date\", y=\"percentage\", hue=\"ratings\", data=occupation_counts)\n",
    "_ = plt.setp(p.get_xticklabels(), rotation=90) "
   ]
  },
  {
   "cell_type": "code",
   "execution_count": 64,
   "metadata": {},
   "outputs": [
    {
     "name": "stderr",
     "output_type": "stream",
     "text": [
      "<ipython-input-64-5a42d6bbbfb9>:1: UserWarning: Boolean Series key will be reindexed to match DataFrame index.\n",
      "  df1[df1['pub_date'] == 'a year ago'][df1['ratings'] == 5].count()\n"
     ]
    },
    {
     "data": {
      "text/plain": [
       "Unnamed: 0       405342\n",
       "id_review        405342\n",
       "user             405342\n",
       "review           278476\n",
       "ratings          405342\n",
       "pub_date         405342\n",
       "Restaurant_id    405342\n",
       "dtype: int64"
      ]
     },
     "execution_count": 64,
     "metadata": {},
     "output_type": "execute_result"
    }
   ],
   "source": [
    "df1[df1['pub_date'] == 'a year ago'][df1['ratings'] == 5].count()"
   ]
  },
  {
   "cell_type": "code",
   "execution_count": 69,
   "metadata": {},
   "outputs": [
    {
     "name": "stdout",
     "output_type": "stream",
     "text": [
      "0.0\n"
     ]
    }
   ],
   "source": [
    "import numpy as np\n",
    "from statsmodels.stats.proportion import proportions_ztest\n",
    "count = np.array([22782,185034])\n",
    "nobs = np.array([38917,405342])\n",
    "stat, pval = proportions_ztest(count, nobs)\n",
    "print((pval))"
   ]
  },
  {
   "cell_type": "code",
   "execution_count": 49,
   "metadata": {},
   "outputs": [
    {
     "data": {
      "text/plain": [
       "<matplotlib.axes._subplots.AxesSubplot at 0x7fe90cac34f0>"
      ]
     },
     "execution_count": 49,
     "metadata": {},
     "output_type": "execute_result"
    },
    {
     "data": {
      "image/png": "[encoded data removed]",
      "text/plain": [
       "<Figure size 432x288 with 1 Axes>"
      ]
     },
     "metadata": {
      "needs_background": "light"
     },
     "output_type": "display_data"
    }
   ],
   "source": [
    "\n",
    "sns.countplot(x= 'pub_date', hue = 'ratings', data = df1)\n"
   ]
  },
  {
   "cell_type": "code",
   "execution_count": null,
   "metadata": {},
   "outputs": [],
   "source": [
    "text = df1.review[2]\n",
    "\n",
    "# Create and generate a word cloud image:\n",
    "wordcloud = WordCloud().generate(text)\n",
    "\n",
    "# Display the generated image:\n",
    "plt.imshow(wordcloud, interpolation='bilinear')\n",
    "plt.axis(\"off\")\n",
    "plt.show()"
   ]
  },
  {
   "cell_type": "code",
   "execution_count": null,
   "metadata": {},
   "outputs": [],
   "source": [
    "df1['review'] = df1['review'].astype(str)\n"
   ]
  },
  {
   "cell_type": "code",
   "execution_count": null,
   "metadata": {},
   "outputs": [],
   "source": [
    "text = \" \".join(reviews for reviews in df1.review)\n",
    "print (\"There are {} words in the combination of all reviews.\".format(len(text)))\n",
    "\n",
    "\n",
    "\n",
    "# Display the generated image:\n",
    "\n",
    "\n",
    "wordcloud = WordCloud(max_font_size=50, max_words=100, background_color=\"white\").generate(text)\n",
    "#plt.figure(figsize=(13, 9))\n",
    "plt.imshow(wordcloud, interpolation='bilinear')\n",
    "plt.axis(\"off\")\n",
    "plt.show()"
   ]
  },
  {
   "cell_type": "code",
   "execution_count": null,
   "metadata": {},
   "outputs": [],
   "source": [
    "postcov = \" \".join(revieww for revieww in df1[df1[\"pub_date\"]==\"postcovid\"].review)\n",
    "\n",
    "\n",
    "\n",
    "wordcloud = WordCloud(max_font_size=50, max_words=100, background_color=\"white\").generate(postcov)\n",
    "plt.figure(figsize=(13, 9))\n",
    "plt.imshow(wordcloud, interpolation='bilinear')\n",
    "plt.axis(\"off\")\n",
    "plt.show()"
   ]
  },
  {
   "cell_type": "code",
   "execution_count": null,
   "metadata": {},
   "outputs": [],
   "source": [
    "precov = \" \".join(revieww for revieww in df1[df1[\"pub_date\"]==\"a year ago\"].review)\n",
    "\n",
    "\n",
    "\n",
    "wordcloud = WordCloud(max_font_size=50, max_words=100, background_color=\"white\").generate(precov)\n",
    "plt.figure(figsize=(13, 9))\n",
    "plt.imshow(wordcloud, interpolation='bilinear')\n",
    "plt.axis(\"off\")\n",
    "plt.show()"
   ]
  },
  {
   "cell_type": "code",
   "execution_count": null,
   "metadata": {},
   "outputs": [],
   "source": [
    "df1['Restaurant_id'].unique()"
   ]
  },
  {
   "cell_type": "code",
   "execution_count": null,
   "metadata": {},
   "outputs": [],
   "source": [
    "plt.figure(figsize=(15, 9))\n",
    "sns.countplot(x= 'Restaurant_id', data = df1)"
   ]
  },
  {
   "cell_type": "code",
   "execution_count": null,
   "metadata": {},
   "outputs": [],
   "source": [
    "df1['text length'] = df1['review'].apply(len)"
   ]
  },
  {
   "cell_type": "code",
   "execution_count": null,
   "metadata": {},
   "outputs": [],
   "source": [
    "g = sns.FacetGrid(df1,col='ratings', row= 'pub_date')\n",
    "g.map(plt.hist,'text length')"
   ]
  },
  {
   "cell_type": "code",
   "execution_count": null,
   "metadata": {},
   "outputs": [],
   "source": [
    "sns.boxplot(x='ratings',y='text length',data=df1,palette='rainbow')"
   ]
  },
  {
   "cell_type": "markdown",
   "metadata": {},
   "source": [
    "check to see if the number of reviews are consistent across restaurants (i.e. morepopular restaurants on yelp (lower #s)don't have more reviews)"
   ]
  },
  {
   "cell_type": "code",
   "execution_count": null,
   "metadata": {},
   "outputs": [],
   "source": [
    "per_resto = df1.Restaurant_id.value_counts()"
   ]
  },
  {
   "cell_type": "code",
   "execution_count": null,
   "metadata": {},
   "outputs": [],
   "source": [
    "pp = pd.DataFrame(per_resto)"
   ]
  },
  {
   "cell_type": "code",
   "execution_count": null,
   "metadata": {},
   "outputs": [],
   "source": [
    "pp = pp.reset_index()"
   ]
  },
  {
   "cell_type": "code",
   "execution_count": null,
   "metadata": {},
   "outputs": [],
   "source": [
    "pp = pp.rename(columns={'index':'restoID', 'Restaurant_id':'counts'})"
   ]
  },
  {
   "cell_type": "code",
   "execution_count": null,
   "metadata": {},
   "outputs": [],
   "source": [
    "sns.scatterplot(x = 'restoID', y = 'counts', data = pp)"
   ]
  },
  {
   "cell_type": "code",
   "execution_count": null,
   "metadata": {},
   "outputs": [],
   "source": [
    "sns.regplot(x = 'restoID', y = 'counts', data = pp)"
   ]
  },
  {
   "cell_type": "code",
   "execution_count": 24,
   "metadata": {},
   "outputs": [],
   "source": [
    "time = ['3 weeks ago', '5 months ago', '4 months ago', '2 weeks ago',\n",
    "       '6 months ago', '8 months ago', 'a month ago',\n",
    "       '2 months ago', '7 months ago', 'a week ago', '9 months ago',\n",
    "       '11 months ago', '22 hours ago', '10 months ago', '3 months ago','5 days ago', '4 days ago', '2 days ago',\n",
    "       '6 days ago', 'a day ago', '20 hours ago', '3 days ago',\n",
    "       '5 hours ago', '4 hours ago', '3 minutes ago', \n",
    "       '19 hours ago', '16 hours ago', '15 hours ago']\n",
    "df2 = df[df.pub_date.isin(time)]\n"
   ]
  },
  {
   "cell_type": "code",
   "execution_count": 25,
   "metadata": {},
   "outputs": [
    {
     "data": {
      "text/html": [
       "<div>\n",
       "<style scoped>\n",
       "    .dataframe tbody tr th:only-of-type {\n",
       "        vertical-align: middle;\n",
       "    }\n",
       "\n",
       "    .dataframe tbody tr th {\n",
       "        vertical-align: top;\n",
       "    }\n",
       "\n",
       "    .dataframe thead th {\n",
       "        text-align: right;\n",
       "    }\n",
       "</style>\n",
       "<table border=\"1\" class=\"dataframe\">\n",
       "  <thead>\n",
       "    <tr style=\"text-align: right;\">\n",
       "      <th></th>\n",
       "      <th>Unnamed: 0</th>\n",
       "      <th>id_review</th>\n",
       "      <th>user</th>\n",
       "      <th>review</th>\n",
       "      <th>ratings</th>\n",
       "      <th>pub_date</th>\n",
       "      <th>Restaurant_id</th>\n",
       "    </tr>\n",
       "  </thead>\n",
       "  <tbody>\n",
       "    <tr>\n",
       "      <th>0</th>\n",
       "      <td>0</td>\n",
       "      <td>ChdDSUhNMG9nS0VJQ0FnSUR5cEt5bGlnRRAB</td>\n",
       "      <td>christiana kamara</td>\n",
       "      <td>What a fantastic experience. We recently did t...</td>\n",
       "      <td>5 stars</td>\n",
       "      <td>3 weeks ago</td>\n",
       "      <td>1</td>\n",
       "    </tr>\n",
       "    <tr>\n",
       "      <th>1</th>\n",
       "      <td>1</td>\n",
       "      <td>ChdDSUhNMG9nS0VJQ0FnSURDNlphUzN3RRAB</td>\n",
       "      <td>Nicholas</td>\n",
       "      <td>Total experience was fantastic! From the front...</td>\n",
       "      <td>5 stars</td>\n",
       "      <td>5 months ago</td>\n",
       "      <td>1</td>\n",
       "    </tr>\n",
       "    <tr>\n",
       "      <th>2</th>\n",
       "      <td>2</td>\n",
       "      <td>ChZDSUhNMG9nS0VJQ0FnSUNpenJPLUt3EAE</td>\n",
       "      <td>Marina Vimar</td>\n",
       "      <td>I honestly love this place!\\n\\nThe staff is so...</td>\n",
       "      <td>5 stars</td>\n",
       "      <td>4 months ago</td>\n",
       "      <td>1</td>\n",
       "    </tr>\n",
       "    <tr>\n",
       "      <th>3</th>\n",
       "      <td>3</td>\n",
       "      <td>ChdDSUhNMG9nS0VJQ0FnSUR5d29hejlRRRAB</td>\n",
       "      <td>Mel S</td>\n",
       "      <td>Definitely the best restaurant in the area in ...</td>\n",
       "      <td>4 stars</td>\n",
       "      <td>2 weeks ago</td>\n",
       "      <td>1</td>\n",
       "    </tr>\n",
       "    <tr>\n",
       "      <th>4</th>\n",
       "      <td>4</td>\n",
       "      <td>ChZDSUhNMG9nS0VJQ0FnSURDeU9leVJ3EAE</td>\n",
       "      <td>Olha Matviichuk</td>\n",
       "      <td>Today, me and my sister visited this place and...</td>\n",
       "      <td>3 stars</td>\n",
       "      <td>6 months ago</td>\n",
       "      <td>1</td>\n",
       "    </tr>\n",
       "  </tbody>\n",
       "</table>\n",
       "</div>"
      ],
      "text/plain": [
       "   Unnamed: 0                             id_review               user  \\\n",
       "0           0  ChdDSUhNMG9nS0VJQ0FnSUR5cEt5bGlnRRAB  christiana kamara   \n",
       "1           1  ChdDSUhNMG9nS0VJQ0FnSURDNlphUzN3RRAB           Nicholas   \n",
       "2           2   ChZDSUhNMG9nS0VJQ0FnSUNpenJPLUt3EAE       Marina Vimar   \n",
       "3           3  ChdDSUhNMG9nS0VJQ0FnSUR5d29hejlRRRAB              Mel S   \n",
       "4           4   ChZDSUhNMG9nS0VJQ0FnSURDeU9leVJ3EAE    Olha Matviichuk   \n",
       "\n",
       "                                              review    ratings      pub_date  \\\n",
       "0  What a fantastic experience. We recently did t...   5 stars    3 weeks ago   \n",
       "1  Total experience was fantastic! From the front...   5 stars   5 months ago   \n",
       "2  I honestly love this place!\\n\\nThe staff is so...   5 stars   4 months ago   \n",
       "3  Definitely the best restaurant in the area in ...   4 stars    2 weeks ago   \n",
       "4  Today, me and my sister visited this place and...   3 stars   6 months ago   \n",
       "\n",
       "   Restaurant_id  \n",
       "0              1  \n",
       "1              1  \n",
       "2              1  \n",
       "3              1  \n",
       "4              1  "
      ]
     },
     "execution_count": 25,
     "metadata": {},
     "output_type": "execute_result"
    }
   ],
   "source": [
    "df2.head()"
   ]
  },
  {
   "cell_type": "code",
   "execution_count": 26,
   "metadata": {},
   "outputs": [
    {
     "name": "stderr",
     "output_type": "stream",
     "text": [
      "<ipython-input-26-5be20c716744>:1: SettingWithCopyWarning: \n",
      "A value is trying to be set on a copy of a slice from a DataFrame.\n",
      "Try using .loc[row_indexer,col_indexer] = value instead\n",
      "\n",
      "See the caveats in the documentation: https://pandas.pydata.org/pandas-docs/stable/user_guide/indexing.html#returning-a-view-versus-a-copy\n",
      "  df2['pub_date'] = df['pub_date'].replace(['5 months ago', '4 months ago',\n"
     ]
    }
   ],
   "source": [
    "df2['pub_date'] = df['pub_date'].replace(['5 months ago', '4 months ago',\n",
    "       '6 months ago', '8 months ago', 'a month ago',\n",
    "       '2 months ago', '7 months ago', '9 months ago',\n",
    "       '11 months ago', '10 months ago', '3 months ago'],['October 2020', 'November 2020', 'September 2020', \n",
    "                                                          'July 2020', 'February 2021', 'January 2021', 'August 2020', \n",
    "                                                         'June 2020', 'April 2020', 'May 2020', 'December 2020'])"
   ]
  },
  {
   "cell_type": "code",
   "execution_count": 27,
   "metadata": {},
   "outputs": [
    {
     "name": "stderr",
     "output_type": "stream",
     "text": [
      "<ipython-input-27-d9d4aeb62663>:1: SettingWithCopyWarning: \n",
      "A value is trying to be set on a copy of a slice from a DataFrame.\n",
      "Try using .loc[row_indexer,col_indexer] = value instead\n",
      "\n",
      "See the caveats in the documentation: https://pandas.pydata.org/pandas-docs/stable/user_guide/indexing.html#returning-a-view-versus-a-copy\n",
      "  df2['pub_date'] = df2['pub_date'].replace(['3 weeks ago', '2 weeks ago'], 'February 2021')\n"
     ]
    }
   ],
   "source": [
    "df2['pub_date'] = df2['pub_date'].replace(['3 weeks ago', '2 weeks ago'], 'February 2021')"
   ]
  },
  {
   "cell_type": "code",
   "execution_count": 28,
   "metadata": {},
   "outputs": [
    {
     "name": "stderr",
     "output_type": "stream",
     "text": [
      "<ipython-input-28-4acc4ee9a428>:1: SettingWithCopyWarning: \n",
      "A value is trying to be set on a copy of a slice from a DataFrame.\n",
      "Try using .loc[row_indexer,col_indexer] = value instead\n",
      "\n",
      "See the caveats in the documentation: https://pandas.pydata.org/pandas-docs/stable/user_guide/indexing.html#returning-a-view-versus-a-copy\n",
      "  df2['pub_date'] = df2['pub_date'].replace(['a week ago', '22 hours ago',\n"
     ]
    }
   ],
   "source": [
    "df2['pub_date'] = df2['pub_date'].replace(['a week ago', '22 hours ago', \n",
    "       '6 days ago', 'a day ago', '20 hours ago', '3 days ago',\n",
    "       '5 hours ago', '4 hours ago', '3 minutes ago', \n",
    "       '19 hours ago', '16 hours ago', '15 hours ago','5 days ago', '4 days ago', '2 days ago'], 'March 2021')"
   ]
  },
  {
   "cell_type": "code",
   "execution_count": 29,
   "metadata": {},
   "outputs": [
    {
     "data": {
      "text/plain": [
       "<matplotlib.axes._subplots.AxesSubplot at 0x7fe90fdd2670>"
      ]
     },
     "execution_count": 29,
     "metadata": {},
     "output_type": "execute_result"
    },
    {
     "data": {
      "image/png": "[encoded data removed]",
      "text/plain": [
       "<Figure size 1440x720 with 1 Axes>"
      ]
     },
     "metadata": {
      "needs_background": "light"
     },
     "output_type": "display_data"
    }
   ],
   "source": [
    "df2.pub_date.value_counts().plot(kind='barh', figsize=(20,10))"
   ]
  },
  {
   "cell_type": "code",
   "execution_count": 30,
   "metadata": {},
   "outputs": [
    {
     "name": "stderr",
     "output_type": "stream",
     "text": [
      "<ipython-input-30-9b05fd0ae5fd>:1: SettingWithCopyWarning: \n",
      "A value is trying to be set on a copy of a slice from a DataFrame.\n",
      "Try using .loc[row_indexer,col_indexer] = value instead\n",
      "\n",
      "See the caveats in the documentation: https://pandas.pydata.org/pandas-docs/stable/user_guide/indexing.html#returning-a-view-versus-a-copy\n",
      "  df2['pub_date'] = pd.to_datetime(df2['pub_date'])\n"
     ]
    }
   ],
   "source": [
    "df2['pub_date'] = pd.to_datetime(df2['pub_date'])\n"
   ]
  },
  {
   "cell_type": "code",
   "execution_count": 31,
   "metadata": {},
   "outputs": [
    {
     "data": {
      "text/html": [
       "<div>\n",
       "<style scoped>\n",
       "    .dataframe tbody tr th:only-of-type {\n",
       "        vertical-align: middle;\n",
       "    }\n",
       "\n",
       "    .dataframe tbody tr th {\n",
       "        vertical-align: top;\n",
       "    }\n",
       "\n",
       "    .dataframe thead th {\n",
       "        text-align: right;\n",
       "    }\n",
       "</style>\n",
       "<table border=\"1\" class=\"dataframe\">\n",
       "  <thead>\n",
       "    <tr style=\"text-align: right;\">\n",
       "      <th></th>\n",
       "      <th>Unnamed: 0</th>\n",
       "      <th>id_review</th>\n",
       "      <th>user</th>\n",
       "      <th>review</th>\n",
       "      <th>ratings</th>\n",
       "      <th>pub_date</th>\n",
       "      <th>Restaurant_id</th>\n",
       "    </tr>\n",
       "  </thead>\n",
       "  <tbody>\n",
       "    <tr>\n",
       "      <th>0</th>\n",
       "      <td>0</td>\n",
       "      <td>ChdDSUhNMG9nS0VJQ0FnSUR5cEt5bGlnRRAB</td>\n",
       "      <td>christiana kamara</td>\n",
       "      <td>What a fantastic experience. We recently did t...</td>\n",
       "      <td>5 stars</td>\n",
       "      <td>2021-02-01</td>\n",
       "      <td>1</td>\n",
       "    </tr>\n",
       "    <tr>\n",
       "      <th>1</th>\n",
       "      <td>1</td>\n",
       "      <td>ChdDSUhNMG9nS0VJQ0FnSURDNlphUzN3RRAB</td>\n",
       "      <td>Nicholas</td>\n",
       "      <td>Total experience was fantastic! From the front...</td>\n",
       "      <td>5 stars</td>\n",
       "      <td>2020-10-01</td>\n",
       "      <td>1</td>\n",
       "    </tr>\n",
       "    <tr>\n",
       "      <th>2</th>\n",
       "      <td>2</td>\n",
       "      <td>ChZDSUhNMG9nS0VJQ0FnSUNpenJPLUt3EAE</td>\n",
       "      <td>Marina Vimar</td>\n",
       "      <td>I honestly love this place!\\n\\nThe staff is so...</td>\n",
       "      <td>5 stars</td>\n",
       "      <td>2020-11-01</td>\n",
       "      <td>1</td>\n",
       "    </tr>\n",
       "    <tr>\n",
       "      <th>3</th>\n",
       "      <td>3</td>\n",
       "      <td>ChdDSUhNMG9nS0VJQ0FnSUR5d29hejlRRRAB</td>\n",
       "      <td>Mel S</td>\n",
       "      <td>Definitely the best restaurant in the area in ...</td>\n",
       "      <td>4 stars</td>\n",
       "      <td>2021-02-01</td>\n",
       "      <td>1</td>\n",
       "    </tr>\n",
       "    <tr>\n",
       "      <th>4</th>\n",
       "      <td>4</td>\n",
       "      <td>ChZDSUhNMG9nS0VJQ0FnSURDeU9leVJ3EAE</td>\n",
       "      <td>Olha Matviichuk</td>\n",
       "      <td>Today, me and my sister visited this place and...</td>\n",
       "      <td>3 stars</td>\n",
       "      <td>2020-09-01</td>\n",
       "      <td>1</td>\n",
       "    </tr>\n",
       "  </tbody>\n",
       "</table>\n",
       "</div>"
      ],
      "text/plain": [
       "   Unnamed: 0                             id_review               user  \\\n",
       "0           0  ChdDSUhNMG9nS0VJQ0FnSUR5cEt5bGlnRRAB  christiana kamara   \n",
       "1           1  ChdDSUhNMG9nS0VJQ0FnSURDNlphUzN3RRAB           Nicholas   \n",
       "2           2   ChZDSUhNMG9nS0VJQ0FnSUNpenJPLUt3EAE       Marina Vimar   \n",
       "3           3  ChdDSUhNMG9nS0VJQ0FnSUR5d29hejlRRRAB              Mel S   \n",
       "4           4   ChZDSUhNMG9nS0VJQ0FnSURDeU9leVJ3EAE    Olha Matviichuk   \n",
       "\n",
       "                                              review    ratings   pub_date  \\\n",
       "0  What a fantastic experience. We recently did t...   5 stars  2021-02-01   \n",
       "1  Total experience was fantastic! From the front...   5 stars  2020-10-01   \n",
       "2  I honestly love this place!\\n\\nThe staff is so...   5 stars  2020-11-01   \n",
       "3  Definitely the best restaurant in the area in ...   4 stars  2021-02-01   \n",
       "4  Today, me and my sister visited this place and...   3 stars  2020-09-01   \n",
       "\n",
       "   Restaurant_id  \n",
       "0              1  \n",
       "1              1  \n",
       "2              1  \n",
       "3              1  \n",
       "4              1  "
      ]
     },
     "execution_count": 31,
     "metadata": {},
     "output_type": "execute_result"
    }
   ],
   "source": [
    "df2.head()"
   ]
  },
  {
   "cell_type": "code",
   "execution_count": 32,
   "metadata": {},
   "outputs": [
    {
     "ename": "AttributeError",
     "evalue": "module 'matplotlib' has no attribute 'xlabel'",
     "output_type": "error",
     "traceback": [
      "\u001b[0;31m---------------------------------------------------------------------------\u001b[0m",
      "\u001b[0;31mAttributeError\u001b[0m                            Traceback (most recent call last)",
      "\u001b[0;32m<ipython-input-32-83ccfdff49cc>\u001b[0m in \u001b[0;36m<module>\u001b[0;34m\u001b[0m\n\u001b[1;32m      1\u001b[0m \u001b[0mdf2\u001b[0m\u001b[0;34m.\u001b[0m\u001b[0mpub_date\u001b[0m\u001b[0;34m.\u001b[0m\u001b[0mvalue_counts\u001b[0m\u001b[0;34m(\u001b[0m\u001b[0;34m)\u001b[0m\u001b[0;34m.\u001b[0m\u001b[0mplot\u001b[0m\u001b[0;34m(\u001b[0m\u001b[0mkind\u001b[0m\u001b[0;34m=\u001b[0m\u001b[0;34m'line'\u001b[0m\u001b[0;34m,\u001b[0m \u001b[0mfigsize\u001b[0m\u001b[0;34m=\u001b[0m\u001b[0;34m(\u001b[0m\u001b[0;36m20\u001b[0m\u001b[0;34m,\u001b[0m\u001b[0;36m10\u001b[0m\u001b[0;34m)\u001b[0m\u001b[0;34m,\u001b[0m\u001b[0mlinestyle\u001b[0m\u001b[0;34m=\u001b[0m\u001b[0;34m'--'\u001b[0m\u001b[0;34m,\u001b[0m \u001b[0mmarker\u001b[0m\u001b[0;34m=\u001b[0m\u001b[0;34m'o'\u001b[0m\u001b[0;34m,\u001b[0m \u001b[0mcolor\u001b[0m\u001b[0;34m=\u001b[0m\u001b[0;34m'b'\u001b[0m\u001b[0;34m)\u001b[0m\u001b[0;34m\u001b[0m\u001b[0;34m\u001b[0m\u001b[0m\n\u001b[0;32m----> 2\u001b[0;31m \u001b[0mplt\u001b[0m\u001b[0;34m.\u001b[0m\u001b[0mxlabel\u001b[0m\u001b[0;34m(\u001b[0m\u001b[0;34m'Date'\u001b[0m\u001b[0;34m)\u001b[0m\u001b[0;34m\u001b[0m\u001b[0;34m\u001b[0m\u001b[0m\n\u001b[0m\u001b[1;32m      3\u001b[0m \u001b[0mplt\u001b[0m\u001b[0;34m.\u001b[0m\u001b[0mylabel\u001b[0m\u001b[0;34m(\u001b[0m\u001b[0;34m'count'\u001b[0m\u001b[0;34m)\u001b[0m\u001b[0;34m\u001b[0m\u001b[0;34m\u001b[0m\u001b[0m\n",
      "\u001b[0;31mAttributeError\u001b[0m: module 'matplotlib' has no attribute 'xlabel'"
     ]
    },
    {
     "data": {
      "image/png": "[encoded data removed]",
      "text/plain": [
       "<Figure size 1440x720 with 1 Axes>"
      ]
     },
     "metadata": {
      "needs_background": "light"
     },
     "output_type": "display_data"
    }
   ],
   "source": [
    "df2.pub_date.value_counts().plot(kind='line', figsize=(20,10),linestyle='--', marker='o', color='b')\n",
    "plt.xlabel('Date')\n",
    "plt.ylabel('count')\n"
   ]
  },
  {
   "cell_type": "code",
   "execution_count": null,
   "metadata": {},
   "outputs": [],
   "source": [
    "g = sns.FacetGrid(df2,col='ratings')\n",
    "g.map(plt.hist,'pub_date')"
   ]
  },
  {
   "cell_type": "code",
   "execution_count": null,
   "metadata": {},
   "outputs": [],
   "source": [
    "df2.info()"
   ]
  },
  {
   "cell_type": "code",
   "execution_count": null,
   "metadata": {},
   "outputs": [],
   "source": [
    "import re\n",
    "import pandas as pd \n",
    "import numpy as np \n",
    "import matplotlib.pyplot as plt \n",
    "import seaborn as sns\n",
    "import string\n",
    "import nltk\n",
    "import warnings \n",
    "warnings.filterwarnings(\"ignore\", category=DeprecationWarning)"
   ]
  },
  {
   "cell_type": "code",
   "execution_count": 4,
   "metadata": {},
   "outputs": [],
   "source": [
    " df4 = df[df['review'].notna()]"
   ]
  },
  {
   "cell_type": "code",
   "execution_count": null,
   "metadata": {},
   "outputs": [],
   "source": [
    "df4['tidy_rev'] = df4['review'].str.replace(\"[^a-zA-Z#]\", \" \")"
   ]
  },
  {
   "cell_type": "code",
   "execution_count": null,
   "metadata": {},
   "outputs": [],
   "source": [
    "df4['tidy_rev'] = df4['tidy_rev'].apply(lambda x: ' '.join([w for w in x.split() if len(w)>3]))"
   ]
  },
  {
   "cell_type": "code",
   "execution_count": null,
   "metadata": {},
   "outputs": [],
   "source": [
    "tokenized_tweet = df4['tidy_rev'].apply(lambda x: x.split())\n",
    "tokenized_tweet.head()"
   ]
  },
  {
   "cell_type": "code",
   "execution_count": null,
   "metadata": {},
   "outputs": [],
   "source": [
    "from nltk.stem.porter import *\n",
    "stemmer = PorterStemmer()\n",
    "\n",
    "tokenized_tweet = tokenized_tweet.apply(lambda x: [stemmer.stem(i) for i in x]) # stemming\n",
    "tokenized_tweet.head()\n"
   ]
  },
  {
   "cell_type": "code",
   "execution_count": null,
   "metadata": {},
   "outputs": [],
   "source": [
    "for i in range(len(tokenized_tweet)):\n",
    "    tokenized_tweet[i] = ' '.join(tokenized_tweet[i])\n",
    "\n",
    "#df4['tidy_rev'] = tokenized_tweet"
   ]
  },
  {
   "cell_type": "code",
   "execution_count": 5,
   "metadata": {},
   "outputs": [
    {
     "data": {
      "text/plain": [
       "1421586"
      ]
     },
     "execution_count": 5,
     "metadata": {},
     "output_type": "execute_result"
    }
   ],
   "source": [
    "len(df4)"
   ]
  },
  {
   "cell_type": "code",
   "execution_count": null,
   "metadata": {},
   "outputs": [],
   "source": []
  }
 ],
 "metadata": {
  "kernelspec": {
   "display_name": "Python 3",
   "language": "python",
   "name": "python3"
  },
  "language_info": {
   "codemirror_mode": {
    "name": "ipython",
    "version": 3
   },
   "file_extension": ".py",
   "mimetype": "text/x-python",
   "name": "python",
   "nbconvert_exporter": "python",
   "pygments_lexer": "ipython3",
   "version": "3.8.3"
  }
 },
 "nbformat": 4,
 "nbformat_minor": 4
}
